{
 "cells": [
  {
   "cell_type": "code",
   "execution_count": 2,
   "id": "42e8e7cf-c9d4-44e0-96b5-c225b6204108",
   "metadata": {},
   "outputs": [
    {
     "name": "stdout",
     "output_type": "stream",
     "text": [
      "24\n"
     ]
    }
   ],
   "source": [
    "import csv\n",
    "\n",
    "dictionary = {\"id1\" : 24, \"id3\" : 34}\n",
    "print(dictionary[\"id1\"])\n",
    "# with open(\"Ratings.csv\", 'r') as csvfile:\n",
    "#         reader = csv.reader(csvfile)\n",
    "\n",
    "#         count = 0\n",
    "#         for row in reader:\n",
    "#             count += 1\n",
    "#             if count == 100:\n",
    "#                 break\n",
    "#             print(row)"
   ]
  },
  {
   "cell_type": "code",
   "execution_count": null,
   "id": "5cf902aa-2f9a-43cd-b2bb-3ce0398e1545",
   "metadata": {},
   "outputs": [],
   "source": []
  },
  {
   "cell_type": "code",
   "execution_count": null,
   "id": "3d762980-fe7a-4ede-85e9-7da50ba5aff7",
   "metadata": {},
   "outputs": [],
   "source": []
  },
  {
   "cell_type": "code",
   "execution_count": null,
   "id": "1272927c-d50a-4654-a238-abaefd99b2e6",
   "metadata": {},
   "outputs": [],
   "source": []
  },
  {
   "cell_type": "code",
   "execution_count": null,
   "id": "bc1942ac-4622-4548-ad4c-e56cb018276a",
   "metadata": {},
   "outputs": [],
   "source": []
  }
 ],
 "metadata": {
  "kernelspec": {
   "display_name": "Python 3 (ipykernel)",
   "language": "python",
   "name": "python3"
  },
  "language_info": {
   "codemirror_mode": {
    "name": "ipython",
    "version": 3
   },
   "file_extension": ".py",
   "mimetype": "text/x-python",
   "name": "python",
   "nbconvert_exporter": "python",
   "pygments_lexer": "ipython3",
   "version": "3.12.6"
  }
 },
 "nbformat": 4,
 "nbformat_minor": 5
}
